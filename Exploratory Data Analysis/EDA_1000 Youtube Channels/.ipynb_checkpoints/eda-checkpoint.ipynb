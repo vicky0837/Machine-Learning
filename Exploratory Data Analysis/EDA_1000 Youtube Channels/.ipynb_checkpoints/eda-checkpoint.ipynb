{
 "cells": [
  {
   "cell_type": "markdown",
   "id": "215aa61d",
   "metadata": {},
   "source": []
  },
  {
   "cell_type": "markdown",
   "id": "04cef4f6",
   "metadata": {},
   "source": []
  },
  {
   "cell_type": "markdown",
   "id": "a729abe4",
   "metadata": {},
   "source": [
    "\n"
   ]
  },
  {
   "cell_type": "code",
   "execution_count": 5,
   "id": "a3d7ca78",
   "metadata": {
    "scrolled": false
   },
   "outputs": [
    {
     "ename": "IndentationError",
     "evalue": "unindent does not match any outer indentation level (<tokenize>, line 50)",
     "output_type": "error",
     "traceback": [
      "\u001b[1;36m  File \u001b[1;32m\"<tokenize>\"\u001b[1;36m, line \u001b[1;32m50\u001b[0m\n\u001b[1;33m    distance(x1,y1,x2,y2)\u001b[0m\n\u001b[1;37m    ^\u001b[0m\n\u001b[1;31mIndentationError\u001b[0m\u001b[1;31m:\u001b[0m unindent does not match any outer indentation level\n"
     ]
    }
   ],
   "source": []
  },
  {
   "cell_type": "markdown",
   "id": "8cf83bd0",
   "metadata": {},
   "source": []
  },
  {
   "cell_type": "markdown",
   "id": "04dce95d",
   "metadata": {},
   "source": []
  },
  {
   "cell_type": "code",
   "execution_count": null,
   "id": "21c1534c",
   "metadata": {},
   "outputs": [],
   "source": []
  },
  {
   "cell_type": "markdown",
   "id": "2d23e889",
   "metadata": {},
   "source": []
  },
  {
   "cell_type": "markdown",
   "id": "504ab8b7",
   "metadata": {},
   "source": []
  },
  {
   "cell_type": "code",
   "execution_count": null,
   "id": "ffac264a",
   "metadata": {
    "scrolled": true
   },
   "outputs": [],
   "source": []
  },
  {
   "cell_type": "markdown",
   "id": "333c7768",
   "metadata": {},
   "source": []
  },
  {
   "cell_type": "markdown",
   "id": "878f44ef",
   "metadata": {},
   "source": []
  },
  {
   "cell_type": "code",
   "execution_count": null,
   "id": "44c9e5d2",
   "metadata": {},
   "outputs": [],
   "source": []
  },
  {
   "cell_type": "markdown",
   "id": "ae3a442a",
   "metadata": {},
   "source": [
    "test cases:\n",
    "names.txt:\n",
    "vicky \n",
    "bunty\n",
    "vicky\n",
    "bunty\n",
    "lalith\n",
    "lalith\n",
    "bunty\n",
    "o/p list --[bunty]\n",
    "\n"
   ]
  }
 ],
 "metadata": {
  "kernelspec": {
   "display_name": "Python 3 (ipykernel)",
   "language": "python",
   "name": "python3"
  },
  "language_info": {
   "codemirror_mode": {
    "name": "ipython",
    "version": 3
   },
   "file_extension": ".py",
   "mimetype": "text/x-python",
   "name": "python",
   "nbconvert_exporter": "python",
   "pygments_lexer": "ipython3",
   "version": "3.9.13"
  }
 },
 "nbformat": 4,
 "nbformat_minor": 5
}
